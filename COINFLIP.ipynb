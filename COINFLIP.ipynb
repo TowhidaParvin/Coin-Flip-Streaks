{
 "cells": [
  {
   "cell_type": "code",
   "execution_count": 1,
   "metadata": {},
   "outputs": [
    {
     "name": "stdout",
     "output_type": "stream",
     "text": [
      "7775\n",
      "Chance of streak:  77.75%\n"
     ]
    }
   ],
   "source": [
    "import random\n",
    "\n",
    "numberOfStreaks = 0\n",
    "curr_streak = 0\n",
    "HT = []\n",
    "for _ in range(10000):\n",
    "    for _ in range(100):\n",
    "        HT.append(random.randint(0,1))  # Heads -> 1 Tails -> 0\n",
    "        \n",
    "    for i in range(1, len(HT)):\n",
    "        if HT[i] == HT[i-1]:\n",
    "            curr_streak+=1\n",
    "        else:\n",
    "            curr_streak = 0\n",
    "    \n",
    "        if curr_streak == 6:\n",
    "            numberOfStreaks+=1\n",
    "    \n",
    "    HT=[]\n",
    "\n",
    "#print(HT,'\\n')\n",
    "print(numberOfStreaks)\n",
    "print('Chance of streak:  %s%%' % (numberOfStreaks / 100))"
   ]
  },
  {
   "cell_type": "code",
   "execution_count": null,
   "metadata": {},
   "outputs": [],
   "source": []
  }
 ],
 "metadata": {
  "kernelspec": {
   "display_name": "Python 3",
   "language": "python",
   "name": "python3"
  },
  "language_info": {
   "codemirror_mode": {
    "name": "ipython",
    "version": 3
   },
   "file_extension": ".py",
   "mimetype": "text/x-python",
   "name": "python",
   "nbconvert_exporter": "python",
   "pygments_lexer": "ipython3",
   "version": "3.7.0"
  }
 },
 "nbformat": 4,
 "nbformat_minor": 2
}
